{
 "cells": [
  {
   "cell_type": "code",
   "execution_count": 1,
   "id": "850bf205",
   "metadata": {},
   "outputs": [
    {
     "name": "stdout",
     "output_type": "stream",
     "text": [
      "3.8.8 (default, Apr 13 2021, 15:08:03) [MSC v.1916 64 bit (AMD64)]\n"
     ]
    }
   ],
   "source": [
    "import pandas as pd\n",
    "import altair as alt\n",
    "\n",
    "import sys\n",
    "print(sys.version)\n"
   ]
  },
  {
   "cell_type": "code",
   "execution_count": 2,
   "id": "894a7818",
   "metadata": {},
   "outputs": [],
   "source": [
    "df = pd.read_csv('../data/incidencia_delictiva_limpio.csv', low_memory=False)"
   ]
  },
  {
   "cell_type": "code",
   "execution_count": 3,
   "id": "9fd3e7c9",
   "metadata": {},
   "outputs": [
    {
     "data": {
      "text/plain": [
       "18"
      ]
     },
     "execution_count": 3,
     "metadata": {},
     "output_type": "execute_result"
    }
   ],
   "source": [
    "df['categoria_delito'].unique().size"
   ]
  },
  {
   "cell_type": "code",
   "execution_count": 3,
   "id": "643a4ab4",
   "metadata": {},
   "outputs": [
    {
     "data": {
      "text/plain": [
       "\"anio_filter = df['anio_inicio'] == 2020\\ndata_filter = df[anio_filter]\""
      ]
     },
     "execution_count": 3,
     "metadata": {},
     "output_type": "execute_result"
    }
   ],
   "source": [
    "'''anio_filter = df['anio_inicio'] == 2020\n",
    "data_filter = df[anio_filter]'''"
   ]
  },
  {
   "cell_type": "code",
   "execution_count": 34,
   "id": "be24acbb",
   "metadata": {},
   "outputs": [
    {
     "data": {
      "text/plain": [
       "DataTransformerRegistry.enable('default')"
      ]
     },
     "execution_count": 34,
     "metadata": {},
     "output_type": "execute_result"
    }
   ],
   "source": [
    "alt.data_transformers.disable_max_rows()"
   ]
  },
  {
   "cell_type": "code",
   "execution_count": 2,
   "id": "e59a1868",
   "metadata": {},
   "outputs": [
    {
     "data": {
      "text/plain": [
       "'bar = alt.Chart(data_filter).mark_bar().encode(\\n    x = alt.X(\\'mes_inicio\\',\\n                axis = alt.Axis(title=\\'Mes\\'),\\n                sort = alt.EncodingSortField(\\n                  field = \\'mes\\',\\n                  order = \\'ascending\\')\\n             ),\\n    y = alt.Y(\\'count(categoria_delito)\\',\\n                 axis = alt.Axis(title=\\'Cantidad de delitos\\')\\n             )\\n).properties(title = \"Delitos en 2020\")\\n\\nbar'"
      ]
     },
     "execution_count": 2,
     "metadata": {},
     "output_type": "execute_result"
    }
   ],
   "source": [
    "'''bar = alt.Chart(data_filter).mark_bar().encode(\n",
    "    x = alt.X('mes_inicio',\n",
    "                axis = alt.Axis(title='Mes'),\n",
    "                sort = alt.EncodingSortField(\n",
    "                  field = 'mes',\n",
    "                  order = 'ascending')\n",
    "             ),\n",
    "    y = alt.Y('count(categoria_delito)',\n",
    "                 axis = alt.Axis(title='Cantidad de delitos')\n",
    "             )\n",
    ").properties(title = \"Delitos en 2020\")\n",
    "\n",
    "bar'''"
   ]
  },
  {
   "cell_type": "code",
   "execution_count": 1,
   "id": "fecf26d5",
   "metadata": {},
   "outputs": [
    {
     "data": {
      "text/plain": [
       "'anio_ft = df[\\'anio_inicio\\'] > 2018\\ndata_ft = df[anio_ft]\\n\\nanio = alt.Chart(data_ft).mark_bar().encode(\\n    x = alt.X(\\'anio_inicio:N\\',\\n                axis = alt.Axis(title=\\'Años\\')\\n             ),\\n    y = alt.Y(\\'count(categoria_delito)\\',\\n                 axis = alt.Axis(title=\\'Cantidad de delitos\\')\\n             )\\n).properties(title = \"Delitos\")\\n\\nanio'"
      ]
     },
     "execution_count": 1,
     "metadata": {},
     "output_type": "execute_result"
    }
   ],
   "source": [
    "'''anio_ft = df['anio_inicio'] > 2018\n",
    "data_ft = df[anio_ft]\n",
    "\n",
    "anio = alt.Chart(data_ft).mark_bar().encode(\n",
    "    x = alt.X('anio_inicio:N',\n",
    "                axis = alt.Axis(title='Años')\n",
    "             ),\n",
    "    y = alt.Y('count(categoria_delito)',\n",
    "                 axis = alt.Axis(title='Cantidad de delitos')\n",
    "             )\n",
    ").properties(title = \"Delitos\")\n",
    "\n",
    "anio'''"
   ]
  },
  {
   "cell_type": "code",
   "execution_count": null,
   "id": "840ee95a",
   "metadata": {},
   "outputs": [],
   "source": []
  },
  {
   "cell_type": "code",
   "execution_count": null,
   "id": "5687a14b",
   "metadata": {},
   "outputs": [],
   "source": []
  },
  {
   "cell_type": "code",
   "execution_count": null,
   "id": "8d956e78",
   "metadata": {},
   "outputs": [],
   "source": []
  }
 ],
 "metadata": {
  "kernelspec": {
   "display_name": "Python 3",
   "language": "python",
   "name": "python3"
  },
  "language_info": {
   "codemirror_mode": {
    "name": "ipython",
    "version": 3
   },
   "file_extension": ".py",
   "mimetype": "text/x-python",
   "name": "python",
   "nbconvert_exporter": "python",
   "pygments_lexer": "ipython3",
   "version": "3.8.8"
  }
 },
 "nbformat": 4,
 "nbformat_minor": 5
}
