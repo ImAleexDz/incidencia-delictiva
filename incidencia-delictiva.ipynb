{
 "cells": [
  {
   "cell_type": "code",
   "execution_count": 2,
   "id": "ec17ad2c",
   "metadata": {},
   "outputs": [],
   "source": [
    "import numpy as np\n",
    "import pandas as pd"
   ]
  },
  {
   "cell_type": "code",
   "execution_count": 4,
   "id": "526707f6",
   "metadata": {},
   "outputs": [],
   "source": [
    "df = pd.read_csv('../data/carpetasFGJ_acumulado_2024_08.csv', low_memory=False)"
   ]
  },
  {
   "cell_type": "code",
   "execution_count": 7,
   "id": "96b97778",
   "metadata": {},
   "outputs": [
    {
     "name": "stdout",
     "output_type": "stream",
     "text": [
      "<class 'pandas.core.frame.DataFrame'>\n",
      "RangeIndex: 2006979 entries, 0 to 2006978\n",
      "Data columns (total 21 columns):\n",
      " #   Column                Dtype  \n",
      "---  ------                -----  \n",
      " 0   anio_inicio           int64  \n",
      " 1   mes_inicio            object \n",
      " 2   fecha_inicio          object \n",
      " 3   hora_inicio           object \n",
      " 4   anio_hecho            float64\n",
      " 5   mes_hecho             object \n",
      " 6   fecha_hecho           object \n",
      " 7   hora_hecho            object \n",
      " 8   delito                object \n",
      " 9   categoria_delito      object \n",
      " 10  competencia           object \n",
      " 11  fiscalia              object \n",
      " 12  agencia               object \n",
      " 13  unidad_investigacion  object \n",
      " 14  colonia_hecho         object \n",
      " 15  colonia_catalogo      object \n",
      " 16  alcaldia_hecho        object \n",
      " 17  alcaldia_catalogo     object \n",
      " 18  municipio_hecho       object \n",
      " 19  latitud               float64\n",
      " 20  longitud              float64\n",
      "dtypes: float64(3), int64(1), object(17)\n",
      "memory usage: 321.6+ MB\n"
     ]
    }
   ],
   "source": [
    "df.info()"
   ]
  },
  {
   "cell_type": "code",
   "execution_count": null,
   "id": "7631e0f5",
   "metadata": {},
   "outputs": [],
   "source": []
  }
 ],
 "metadata": {
  "kernelspec": {
   "display_name": "Python 3",
   "language": "python",
   "name": "python3"
  },
  "language_info": {
   "codemirror_mode": {
    "name": "ipython",
    "version": 3
   },
   "file_extension": ".py",
   "mimetype": "text/x-python",
   "name": "python",
   "nbconvert_exporter": "python",
   "pygments_lexer": "ipython3",
   "version": "3.8.8"
  }
 },
 "nbformat": 4,
 "nbformat_minor": 5
}
