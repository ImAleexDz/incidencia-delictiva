{
 "cells": [
  {
   "cell_type": "code",
   "execution_count": 1,
   "id": "ec17ad2c",
   "metadata": {},
   "outputs": [
    {
     "name": "stdout",
     "output_type": "stream",
     "text": [
      "3.8.8 (default, Apr 13 2021, 15:08:03) [MSC v.1916 64 bit (AMD64)]\n"
     ]
    }
   ],
   "source": [
    "import pandas as pd\n",
    "import numpy as np\n",
    "import sys\n",
    "\n",
    "print(sys.version)"
   ]
  },
  {
   "cell_type": "code",
   "execution_count": 2,
   "id": "526707f6",
   "metadata": {},
   "outputs": [],
   "source": [
    "df = pd.read_csv('../data/carpetasFGJ_acumulado_2024_08.csv', low_memory=False)"
   ]
  },
  {
   "cell_type": "code",
   "execution_count": 3,
   "id": "b99e45a5",
   "metadata": {},
   "outputs": [
    {
     "name": "stdout",
     "output_type": "stream",
     "text": [
      "<class 'pandas.core.frame.DataFrame'>\n",
      "RangeIndex: 2006979 entries, 0 to 2006978\n",
      "Data columns (total 21 columns):\n",
      " #   Column                Dtype  \n",
      "---  ------                -----  \n",
      " 0   anio_inicio           int64  \n",
      " 1   mes_inicio            object \n",
      " 2   fecha_inicio          object \n",
      " 3   hora_inicio           object \n",
      " 4   anio_hecho            float64\n",
      " 5   mes_hecho             object \n",
      " 6   fecha_hecho           object \n",
      " 7   hora_hecho            object \n",
      " 8   delito                object \n",
      " 9   categoria_delito      object \n",
      " 10  competencia           object \n",
      " 11  fiscalia              object \n",
      " 12  agencia               object \n",
      " 13  unidad_investigacion  object \n",
      " 14  colonia_hecho         object \n",
      " 15  colonia_catalogo      object \n",
      " 16  alcaldia_hecho        object \n",
      " 17  alcaldia_catalogo     object \n",
      " 18  municipio_hecho       object \n",
      " 19  latitud               float64\n",
      " 20  longitud              float64\n",
      "dtypes: float64(3), int64(1), object(17)\n",
      "memory usage: 321.6+ MB\n"
     ]
    }
   ],
   "source": [
    "df.info()"
   ]
  },
  {
   "cell_type": "code",
   "execution_count": 4,
   "id": "6f0e22db",
   "metadata": {},
   "outputs": [
    {
     "data": {
      "text/plain": [
       "anio_inicio             2006979\n",
       "mes_inicio              2006979\n",
       "fecha_inicio            2006976\n",
       "hora_inicio             2006964\n",
       "anio_hecho              2006435\n",
       "mes_hecho               2006435\n",
       "fecha_hecho             2006434\n",
       "hora_hecho              2006095\n",
       "delito                  2006979\n",
       "categoria_delito        2006979\n",
       "competencia              942961\n",
       "fiscalia                2006977\n",
       "agencia                 2006979\n",
       "unidad_investigacion    2006001\n",
       "colonia_hecho           1910528\n",
       "colonia_catalogo        1889402\n",
       "alcaldia_hecho          2001626\n",
       "alcaldia_catalogo       1942364\n",
       "municipio_hecho         2001626\n",
       "latitud                 1911462\n",
       "longitud                1911462\n",
       "dtype: int64"
      ]
     },
     "execution_count": 4,
     "metadata": {},
     "output_type": "execute_result"
    }
   ],
   "source": [
    "df.count()"
   ]
  },
  {
   "cell_type": "code",
   "execution_count": 5,
   "id": "8027760c",
   "metadata": {},
   "outputs": [
    {
     "name": "stdout",
     "output_type": "stream",
     "text": [
      "anio_inicio             1130511\n",
      "mes_inicio              1130511\n",
      "fecha_inicio            1130508\n",
      "hora_inicio             1130496\n",
      "anio_hecho              1129967\n",
      "mes_hecho               1129967\n",
      "fecha_hecho             1129966\n",
      "hora_hecho              1129627\n",
      "delito                  1130511\n",
      "categoria_delito        1130511\n",
      "competencia               66493\n",
      "fiscalia                1130509\n",
      "agencia                 1130511\n",
      "unidad_investigacion    1129533\n",
      "colonia_hecho           1034060\n",
      "colonia_catalogo        1012934\n",
      "alcaldia_hecho          1125158\n",
      "alcaldia_catalogo       1065896\n",
      "municipio_hecho         1125158\n",
      "latitud                 1034994\n",
      "longitud                1034994\n",
      "dtype: int64\n"
     ]
    }
   ],
   "source": [
    "print(df[df.isnull().any(axis=1)].count())"
   ]
  },
  {
   "cell_type": "code",
   "execution_count": 6,
   "id": "99f3db13",
   "metadata": {},
   "outputs": [
    {
     "name": "stdout",
     "output_type": "stream",
     "text": [
      "         anio_inicio mes_inicio fecha_inicio hora_inicio  anio_hecho  \\\n",
      "2006738         2024     Agosto   2024-08-31    16:14:00      2023.0   \n",
      "2006759         2024     Agosto   2024-08-31    16:42:00      2024.0   \n",
      "2006772         2024     Agosto   2024-08-31    17:03:00      2024.0   \n",
      "2006797         2024     Agosto   2024-08-31    17:47:00      2024.0   \n",
      "2006800         2024     Agosto   2024-08-31    17:48:00      2024.0   \n",
      "2006808         2024     Agosto   2024-08-31    18:07:00      2024.0   \n",
      "2006810         2024     Agosto   2024-08-31    18:12:00      2024.0   \n",
      "2006823         2024     Agosto   2024-08-31    18:34:00      2024.0   \n",
      "2006869         2024     Agosto   2024-08-31    20:18:00      2024.0   \n",
      "2006880         2024     Agosto   2024-08-31    20:39:00      2024.0   \n",
      "2006883         2024     Agosto   2024-08-31    20:49:00      2024.0   \n",
      "2006889         2024     Agosto   2024-08-31    21:06:00      2024.0   \n",
      "2006895         2024     Agosto   2024-08-31    21:12:00      2024.0   \n",
      "2006956         2024      Julio   2024-07-08    02:59:03      2024.0   \n",
      "2006959         2024      Julio   2024-07-20    15:48:54      2024.0   \n",
      "2006963         2024      Junio   2024-06-05    17:22:38      2024.0   \n",
      "2006968         2024      Junio   2024-06-10    14:12:19      2024.0   \n",
      "2006970         2024      Junio   2024-06-24    07:49:05      2024.0   \n",
      "2006973         2024      Junio   2024-06-30    08:43:01      2024.0   \n",
      "2006977         2024       Mayo   2024-05-13    04:41:22      2024.0   \n",
      "\n",
      "        mes_hecho fecha_hecho hora_hecho  \\\n",
      "2006738    Agosto  2023-08-01   12:00:00   \n",
      "2006759     Marzo  2024-03-07   23:30:00   \n",
      "2006772    Agosto  2024-08-28   20:00:00   \n",
      "2006797    Agosto  2024-08-31   15:20:00   \n",
      "2006800    Agosto  2024-08-30   13:50:00   \n",
      "2006808     Julio  2024-07-26   09:00:00   \n",
      "2006810    Agosto  2024-08-31   09:48:00   \n",
      "2006823    Agosto  2024-08-31   05:00:00   \n",
      "2006869    Agosto  2024-08-25   20:00:00   \n",
      "2006880    Agosto  2024-08-31   12:30:00   \n",
      "2006883    Agosto  2024-08-30   22:20:00   \n",
      "2006889    Agosto  2024-08-31   16:20:00   \n",
      "2006895    Agosto  2024-08-31   19:35:00   \n",
      "2006956     Junio  2024-06-23   23:00:00   \n",
      "2006959     Julio  2024-07-19   13:00:00   \n",
      "2006963     Junio  2024-06-04   22:00:00   \n",
      "2006968     Junio  2024-06-10   08:00:00   \n",
      "2006970     Junio  2024-06-24   07:54:00   \n",
      "2006973     Junio  2024-06-29   22:13:00   \n",
      "2006977      Mayo  2024-05-12   22:12:00   \n",
      "\n",
      "                                                    delito  \\\n",
      "2006738                                       ABUSO SEXUAL   \n",
      "2006759                                       ABUSO SEXUAL   \n",
      "2006772                               VIOLACION EQUIPARADA   \n",
      "2006797          ROBO A PASAJERO EN TROLEBUS SIN VIOLENCIA   \n",
      "2006800                                    ROBO DE OBJETOS   \n",
      "2006808                               VIOLACION EQUIPARADA   \n",
      "2006810                  PERDIDA DE LA VIDA POR ENFERMEDAD   \n",
      "2006823                                 VIOLENCIA FAMILIAR   \n",
      "2006869                  ROBO DE MOTOCICLETA SIN VIOLENCIA   \n",
      "2006880               ROBO A CASA HABITACION SIN VIOLENCIA   \n",
      "2006883                  ROBO DE MOTOCICLETA CON VIOLENCIA   \n",
      "2006889  ROBO DE VEHICULO DE SERVICIO PARTICULAR SIN VI...   \n",
      "2006895        ROBO DE OBJETOS DEL INTERIOR DE UN VEHICULO   \n",
      "2006956  ROBO A TRANSEUNTE A BORDO DE TAXI PÚBLICO Y PR...   \n",
      "2006959  DAÑO EN PROPIEDAD AJENA CULPOSA POR TRÁNSITO V...   \n",
      "2006963           LESIONES INTENCIONALES POR ARMA DE FUEGO   \n",
      "2006968           LESIONES INTENCIONALES POR ARMA DE FUEGO   \n",
      "2006970           LESIONES INTENCIONALES POR ARMA DE FUEGO   \n",
      "2006973           LESIONES INTENCIONALES POR ARMA DE FUEGO   \n",
      "2006977                                 PLAGIO O SECUESTRO   \n",
      "\n",
      "                                      categoria_delito  ...  \\\n",
      "2006738                         DELITO DE BAJO IMPACTO  ...   \n",
      "2006759                         DELITO DE BAJO IMPACTO  ...   \n",
      "2006772                                      VIOLACIÓN  ...   \n",
      "2006797                         DELITO DE BAJO IMPACTO  ...   \n",
      "2006800                         DELITO DE BAJO IMPACTO  ...   \n",
      "2006808                                      VIOLACIÓN  ...   \n",
      "2006810                             HECHO NO DELICTIVO  ...   \n",
      "2006823                         DELITO DE BAJO IMPACTO  ...   \n",
      "2006869           ROBO DE VEHÍCULO CON Y SIN VIOLENCIA  ...   \n",
      "2006880                         DELITO DE BAJO IMPACTO  ...   \n",
      "2006883           ROBO DE VEHÍCULO CON Y SIN VIOLENCIA  ...   \n",
      "2006889           ROBO DE VEHÍCULO CON Y SIN VIOLENCIA  ...   \n",
      "2006895                         DELITO DE BAJO IMPACTO  ...   \n",
      "2006956  ROBO A PASAJERO A BORDO DE TAXI CON VIOLENCIA  ...   \n",
      "2006959                         DELITO DE BAJO IMPACTO  ...   \n",
      "2006963  LESIONES DOLOSAS POR DISPARO DE ARMA DE FUEGO  ...   \n",
      "2006968  LESIONES DOLOSAS POR DISPARO DE ARMA DE FUEGO  ...   \n",
      "2006970  LESIONES DOLOSAS POR DISPARO DE ARMA DE FUEGO  ...   \n",
      "2006973  LESIONES DOLOSAS POR DISPARO DE ARMA DE FUEGO  ...   \n",
      "2006977                                      SECUESTRO  ...   \n",
      "\n",
      "                                                  fiscalia    agencia  \\\n",
      "2006738      FISCALÍA DE INVESTIGACIÓN DE DELITOS SEXUALES      FDS-6   \n",
      "2006759      FISCALÍA DE INVESTIGACIÓN DE DELITOS SEXUALES      FDS-6   \n",
      "2006772      FISCALÍA DE INVESTIGACIÓN DE DELITOS SEXUALES      FDS-2   \n",
      "2006797  FISCALÍA DE INVESTIGACIÓN TERRITORIAL EN CUAUH...  UAT-CUH-8   \n",
      "2006800  FISCALÍA DE INVESTIGACIÓN TERRITORIAL EN BENIT...   UAT-BJ-1   \n",
      "2006808  FISCALÍA DE INVESTIGACIÓN DE DELITOS COMETIDOS...         59   \n",
      "2006810  FISCALÍA DE INVESTIGACIÓN TERRITORIAL EN GUSTA...  UAT-GAM-3   \n",
      "2006823   FISCALÍA DE INVESTIGACIÓN TERRITORIAL EN TLALPAN  UAT-TLP-3   \n",
      "2006869   FISCALÍA DE INVESTIGACIÓN TERRITORIAL EN TLALPAN  UAT-TLP-3   \n",
      "2006880  FISCALÍA DE INVESTIGACIÓN TERRITORIAL EN MILPA...  UAT-MIL-1   \n",
      "2006883  FISCALÍA DE INVESTIGACIÓN TERRITORIAL EN AZCAP...   UAT-AZ-4   \n",
      "2006889   FISCALÍA DE INVESTIGACIÓN TERRITORIAL EN TLÁHUAC  UAT-TLH-2   \n",
      "2006895   FISCALÍA DE INVESTIGACIÓN TERRITORIAL EN TLALPAN  UAT-TLP-1   \n",
      "2006956  FISCALÍA DE INVESTIGACIÓN DE DELITOS COMETIDOS...        GAP   \n",
      "2006959   FISCALÍA DE INVESTIGACIÓN TERRITORIAL EN TLALPAN  UAT-TLP-5   \n",
      "2006963  FISCALÍA DE INVESTIGACIÓN TERRITORIAL EN ALVAR...   UAT-AO-4   \n",
      "2006968  FISCALÍA DE INVESTIGACIÓN TERRITORIAL EN IZTAP...      IZP-6   \n",
      "2006970  FISCALÍA DE INVESTIGACIÓN TERRITORIAL EN GUSTA...  UAT-GAM-4   \n",
      "2006973  FISCALÍA DE INVESTIGACIÓN TERRITORIAL EN ALVAR...   UAT-AO-4   \n",
      "2006977   FISCALÍA DE INVESTIGACIÓN TERRITORIAL EN TLALPAN  UAT-TLP-5   \n",
      "\n",
      "                     unidad_investigacion                      colonia_hecho  \\\n",
      "2006738                          FDS-6-03                                NaN   \n",
      "2006759                          FDS-6-03                                NaN   \n",
      "2006772                          FDS-2-03                                NaN   \n",
      "2006797                            UI-1SD                                NaN   \n",
      "2006800                    1 SIN DETENIDO                                NaN   \n",
      "2006808                            UI-3CD                                NaN   \n",
      "2006810                            UI-1SD                                NaN   \n",
      "2006823                            UI-1SD                 SANTO TOMAS AJUSCO   \n",
      "2006869                            UI-1SD                          TLALMILLE   \n",
      "2006880                            UI-1SD  TENANTITLA (SAN ANTONIO TECOMITL)   \n",
      "2006883                            UI-3SD                                NaN   \n",
      "2006889                            UI-3SD                  BARRIO CALYEQUITA   \n",
      "2006895                            UI-1SD                      SAN NICOLÁS 2   \n",
      "2006956  Unidad de investigación LGBT2C/D                                NaN   \n",
      "2006959                            UI-1SD                                NaN   \n",
      "2006963                            UI-1SD                                NaN   \n",
      "2006968                            UI-2SD                                NaN   \n",
      "2006970                            UI-1SD                                NaN   \n",
      "2006973                            UI-1SD                                NaN   \n",
      "2006977                            UI-1SD                                NaN   \n",
      "\n",
      "        colonia_catalogo        alcaldia_hecho     alcaldia_catalogo  \\\n",
      "2006738              NaN            CUAUHTEMOC                   NaN   \n",
      "2006759              NaN            CUAUHTEMOC                   NaN   \n",
      "2006772              NaN        ALVARO OBREGON                   NaN   \n",
      "2006797              NaN  CDMX (indeterminada)  CDMX (indeterminada)   \n",
      "2006800              NaN  CDMX (indeterminada)  CDMX (indeterminada)   \n",
      "2006808              NaN  CDMX (indeterminada)  CDMX (indeterminada)   \n",
      "2006810              NaN     GUSTAVO A. MADERO                   NaN   \n",
      "2006823              NaN               TLALPAN               Tlalpan   \n",
      "2006869              NaN               TLALPAN               Tlalpan   \n",
      "2006880              NaN            MILPA ALTA            Milpa Alta   \n",
      "2006883              NaN         FUERA DE CDMX         Fuera de CDMX   \n",
      "2006889              NaN               TLAHUAC               Tláhuac   \n",
      "2006895              NaN               TLALPAN               Tlalpan   \n",
      "2006956              NaN         FUERA DE CDMX         Fuera de CDMX   \n",
      "2006959              NaN         FUERA DE CDMX         Fuera de CDMX   \n",
      "2006963              NaN        ALVARO OBREGON                   NaN   \n",
      "2006968              NaN         FUERA DE CDMX         Fuera de CDMX   \n",
      "2006970              NaN         FUERA DE CDMX         Fuera de CDMX   \n",
      "2006973              NaN        ALVARO OBREGON                   NaN   \n",
      "2006977              NaN  CDMX (indeterminada)  CDMX (indeterminada)   \n",
      "\n",
      "                     municipio_hecho    latitud   longitud  \n",
      "2006738                         CDMX        NaN        NaN  \n",
      "2006759                         CDMX        NaN        NaN  \n",
      "2006772                         CDMX        NaN        NaN  \n",
      "2006797                         CDMX        NaN        NaN  \n",
      "2006800                         CDMX        NaN        NaN  \n",
      "2006808                         CDMX        NaN        NaN  \n",
      "2006810                         CDMX        NaN        NaN  \n",
      "2006823                         CDMX  19.214332 -99.211659  \n",
      "2006869                         CDMX  19.259558 -99.185444  \n",
      "2006880                         CDMX  19.219910 -99.002116  \n",
      "2006883          TLALNEPANTLA DE BAZ        NaN        NaN  \n",
      "2006889                         CDMX  19.251552 -99.007031  \n",
      "2006895                         CDMX  19.267304 -99.234319  \n",
      "2006956          NAUCALPAN DE JUAREZ        NaN        NaN  \n",
      "2006959                    HUITZILAC        NaN        NaN  \n",
      "2006963                         CDMX        NaN        NaN  \n",
      "2006968  VALLE DE CHALCO SOLIDARIDAD        NaN        NaN  \n",
      "2006970               NEZAHUALCOYOTL        NaN        NaN  \n",
      "2006973                         CDMX        NaN        NaN  \n",
      "2006977                         CDMX        NaN        NaN  \n",
      "\n",
      "[20 rows x 21 columns]\n"
     ]
    }
   ],
   "source": [
    "print(df[df.isnull().any(axis=1)].tail(20))"
   ]
  },
  {
   "cell_type": "code",
   "execution_count": 7,
   "id": "1c692f1d",
   "metadata": {},
   "outputs": [],
   "source": [
    "df2 = df.copy()"
   ]
  },
  {
   "cell_type": "code",
   "execution_count": 8,
   "id": "dc86245d",
   "metadata": {},
   "outputs": [],
   "source": [
    "#Eliminamos las filas con Nan\n",
    "df2 = df2.dropna()"
   ]
  },
  {
   "cell_type": "code",
   "execution_count": 9,
   "id": "64e7f7de",
   "metadata": {},
   "outputs": [
    {
     "name": "stdout",
     "output_type": "stream",
     "text": [
      "<class 'pandas.core.frame.DataFrame'>\n",
      "Int64Index: 876468 entries, 443815 to 2006978\n",
      "Data columns (total 21 columns):\n",
      " #   Column                Non-Null Count   Dtype  \n",
      "---  ------                --------------   -----  \n",
      " 0   anio_inicio           876468 non-null  int64  \n",
      " 1   mes_inicio            876468 non-null  object \n",
      " 2   fecha_inicio          876468 non-null  object \n",
      " 3   hora_inicio           876468 non-null  object \n",
      " 4   anio_hecho            876468 non-null  float64\n",
      " 5   mes_hecho             876468 non-null  object \n",
      " 6   fecha_hecho           876468 non-null  object \n",
      " 7   hora_hecho            876468 non-null  object \n",
      " 8   delito                876468 non-null  object \n",
      " 9   categoria_delito      876468 non-null  object \n",
      " 10  competencia           876468 non-null  object \n",
      " 11  fiscalia              876468 non-null  object \n",
      " 12  agencia               876468 non-null  object \n",
      " 13  unidad_investigacion  876468 non-null  object \n",
      " 14  colonia_hecho         876468 non-null  object \n",
      " 15  colonia_catalogo      876468 non-null  object \n",
      " 16  alcaldia_hecho        876468 non-null  object \n",
      " 17  alcaldia_catalogo     876468 non-null  object \n",
      " 18  municipio_hecho       876468 non-null  object \n",
      " 19  latitud               876468 non-null  float64\n",
      " 20  longitud              876468 non-null  float64\n",
      "dtypes: float64(3), int64(1), object(17)\n",
      "memory usage: 147.1+ MB\n"
     ]
    }
   ],
   "source": [
    "df2.info()"
   ]
  },
  {
   "cell_type": "code",
   "execution_count": 10,
   "id": "d2cc987d",
   "metadata": {},
   "outputs": [],
   "source": [
    "df2.drop_duplicates(inplace=True)"
   ]
  },
  {
   "cell_type": "code",
   "execution_count": 12,
   "id": "d685e2e6",
   "metadata": {},
   "outputs": [],
   "source": [
    "#Eliminaremos las columnas que no ocuparemos para el análisis, lo único que me importa es las columnas de _inicio debido que\n",
    "#es la info cuando se registró el delito y las columnas _hecho es cuando se hizo la denuncia\n",
    "\n",
    "df2 = df2.drop(['anio_hecho', 'mes_hecho', 'fecha_hecho', 'hora_hecho'], axis=1)"
   ]
  },
  {
   "cell_type": "code",
   "execution_count": 15,
   "id": "c4406aa4",
   "metadata": {},
   "outputs": [],
   "source": [
    "df2['fecha_hora'] = pd.to_datetime(df2['fecha_inicio'] + ' ' + df2['hora_inicio'], format='%Y-%m-%d %H:%M')"
   ]
  },
  {
   "cell_type": "code",
   "execution_count": 17,
   "id": "5c0685b1",
   "metadata": {},
   "outputs": [],
   "source": [
    "df2 = df2.drop(['fecha_inicio', 'hora_inicio'], axis=1)"
   ]
  },
  {
   "cell_type": "code",
   "execution_count": 18,
   "id": "3ffb9d94",
   "metadata": {},
   "outputs": [
    {
     "name": "stdout",
     "output_type": "stream",
     "text": [
      "<class 'pandas.core.frame.DataFrame'>\n",
      "Int64Index: 876390 entries, 443815 to 2006978\n",
      "Data columns (total 16 columns):\n",
      " #   Column                Non-Null Count   Dtype         \n",
      "---  ------                --------------   -----         \n",
      " 0   anio_inicio           876390 non-null  int64         \n",
      " 1   mes_inicio            876390 non-null  object        \n",
      " 2   delito                876390 non-null  object        \n",
      " 3   categoria_delito      876390 non-null  object        \n",
      " 4   competencia           876390 non-null  object        \n",
      " 5   fiscalia              876390 non-null  object        \n",
      " 6   agencia               876390 non-null  object        \n",
      " 7   unidad_investigacion  876390 non-null  object        \n",
      " 8   colonia_hecho         876390 non-null  object        \n",
      " 9   colonia_catalogo      876390 non-null  object        \n",
      " 10  alcaldia_hecho        876390 non-null  object        \n",
      " 11  alcaldia_catalogo     876390 non-null  object        \n",
      " 12  municipio_hecho       876390 non-null  object        \n",
      " 13  latitud               876390 non-null  float64       \n",
      " 14  longitud              876390 non-null  float64       \n",
      " 15  fecha_hora            876390 non-null  datetime64[ns]\n",
      "dtypes: datetime64[ns](1), float64(2), int64(1), object(12)\n",
      "memory usage: 113.7+ MB\n"
     ]
    }
   ],
   "source": [
    "df2.info()"
   ]
  },
  {
   "cell_type": "code",
   "execution_count": null,
   "id": "dd188198",
   "metadata": {},
   "outputs": [],
   "source": []
  },
  {
   "cell_type": "code",
   "execution_count": null,
   "id": "7330043f",
   "metadata": {},
   "outputs": [],
   "source": []
  },
  {
   "cell_type": "code",
   "execution_count": null,
   "id": "fb0a26f8",
   "metadata": {},
   "outputs": [],
   "source": []
  }
 ],
 "metadata": {
  "kernelspec": {
   "display_name": "Python 3",
   "language": "python",
   "name": "python3"
  },
  "language_info": {
   "codemirror_mode": {
    "name": "ipython",
    "version": 3
   },
   "file_extension": ".py",
   "mimetype": "text/x-python",
   "name": "python",
   "nbconvert_exporter": "python",
   "pygments_lexer": "ipython3",
   "version": "3.8.8"
  },
  "vscode": {
   "interpreter": {
    "hash": "b25a02950ac991b161f7d6396235db60d3cdef8d4eaa09c63d493864b0e5534d"
   }
  }
 },
 "nbformat": 4,
 "nbformat_minor": 5
}
